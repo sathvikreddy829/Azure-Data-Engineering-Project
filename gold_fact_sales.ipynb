{
 "cells": [
  {
   "cell_type": "markdown",
   "metadata": {
    "application/vnd.databricks.v1+cell": {
     "cellMetadata": {},
     "inputWidgets": {},
     "nuid": "13d0cc7c-f8ad-4027-befb-c57d7e3456e0",
     "showTitle": false,
     "tableResultSettingsMap": {},
     "title": ""
    }
   },
   "source": [
    "# Creating fact table "
   ]
  },
  {
   "cell_type": "markdown",
   "metadata": {
    "application/vnd.databricks.v1+cell": {
     "cellMetadata": {},
     "inputWidgets": {},
     "nuid": "5a3a7222-9435-428b-9981-e452600094d5",
     "showTitle": false,
     "tableResultSettingsMap": {},
     "title": ""
    }
   },
   "source": [
    "## Querying silver data"
   ]
  },
  {
   "cell_type": "markdown",
   "metadata": {
    "application/vnd.databricks.v1+cell": {
     "cellMetadata": {},
     "inputWidgets": {},
     "nuid": "b2006940-9938-4ad8-8121-f63fd529b273",
     "showTitle": false,
     "tableResultSettingsMap": {},
     "title": ""
    }
   },
   "source": [
    "use storage credential to access data from datalake"
   ]
  },
  {
   "cell_type": "code",
   "execution_count": 0,
   "metadata": {
    "application/vnd.databricks.v1+cell": {
     "cellMetadata": {
      "byteLimit": 2048000,
      "rowLimit": 10000
     },
     "inputWidgets": {},
     "nuid": "f3f5534b-a08d-4ed4-bd8d-ff2a35598b8c",
     "showTitle": false,
     "tableResultSettingsMap": {},
     "title": ""
    }
   },
   "outputs": [],
   "source": [
    "df_silver = spark.sql('''select * from parquet.`abfss://silver@carsathvikdatalake.dfs.core.windows.net/carsales`''')"
   ]
  },
  {
   "cell_type": "code",
   "execution_count": 0,
   "metadata": {
    "application/vnd.databricks.v1+cell": {
     "cellMetadata": {
      "byteLimit": 2048000,
      "rowLimit": 10000
     },
     "inputWidgets": {},
     "nuid": "b0fe2c0b-2181-4893-a7fe-489d5cd8f2b1",
     "showTitle": false,
     "tableResultSettingsMap": {},
     "title": ""
    }
   },
   "outputs": [],
   "source": [
    "df_model = spark.sql(\"select * from hive_metastore.gold.dim_model\")\n",
    "\n",
    "df_dealer = spark.sql(\"select * from hive_metastore.gold.dim_dealer\")\n",
    "\n",
    "df_date = spark.sql(\"select * from hive_metastore.gold.dim_date\")\n",
    "\n",
    "df_branch = spark.sql(\"select * from hive_metastore.gold.dim_branch\")"
   ]
  },
  {
   "cell_type": "code",
   "execution_count": 0,
   "metadata": {
    "application/vnd.databricks.v1+cell": {
     "cellMetadata": {
      "byteLimit": 2048000,
      "rowLimit": 10000
     },
     "inputWidgets": {},
     "nuid": "82bf4ef4-7761-41a7-a7e4-4cc3fdfc067e",
     "showTitle": false,
     "tableResultSettingsMap": {},
     "title": ""
    }
   },
   "outputs": [],
   "source": [
    "df_fact = df_silver.join(df_model, df_silver['Model_ID'] == df_model['Model_ID'],how='left')\\\n",
    "                    .join(df_branch, df_silver['Branch_ID']== df_branch['Branch_ID'],how='left')\\\n",
    "                    .join(df_date, df_silver['Date_ID']==df_date['Date_ID'],how='left')\\\n",
    "                    .join(df_dealer, df_silver['Dealer_ID']==df_dealer['Dealer_ID'],how='left')\\\n",
    "                    .select(df_silver['Revenue'], df_silver['Units_Sold'], df_silver['RevPerUnit'], df_branch['dim_branch_key'], df_date['dim_date_key'], df_dealer['dim_dealer_key'], df_model['dim_model_key'])   "
   ]
  },
  {
   "cell_type": "code",
   "execution_count": 0,
   "metadata": {
    "application/vnd.databricks.v1+cell": {
     "cellMetadata": {
      "byteLimit": 2048000,
      "rowLimit": 10000
     },
     "inputWidgets": {},
     "nuid": "eccc2b99-7929-4c54-8e31-9534241d6f55",
     "showTitle": false,
     "tableResultSettingsMap": {},
     "title": ""
    }
   },
   "outputs": [],
   "source": [
    "from delta.tables import DeltaTable"
   ]
  },
  {
   "cell_type": "code",
   "execution_count": 0,
   "metadata": {
    "application/vnd.databricks.v1+cell": {
     "cellMetadata": {
      "byteLimit": 2048000,
      "rowLimit": 10000
     },
     "inputWidgets": {},
     "nuid": "0a609bc0-9763-4f94-a5f0-e19773805b33",
     "showTitle": false,
     "tableResultSettingsMap": {},
     "title": ""
    }
   },
   "outputs": [],
   "source": [
    "if spark.catalog.tableExists('hive_metastore.gold.fact_sales'):\n",
    "     delta_tbl = DeltaTable.forName(spark, 'hive_metastore.gold.fact_sales')\n",
    "     delta_tbl.alias('trg').merge(df_fact.alias('src'), 'trg.dim_branch_key = src.dim_branch_key and trg.dim_date_key = src.dim_date_key and trg.dim_dealer_key = src.dim_dealer_key and trg.dim_model_key = src.dim_model_key')\\\n",
    "                           .whenMatchedUpdateAll()\\\n",
    "                            .whenNotMatchedInsertAll()\\\n",
    "                                .execute()\n",
    "\n",
    "else : \n",
    "      df_fact.write.format('delta')\\\n",
    "                   .option('path', 'abfss://gold@carsathvikdatalake.dfs.core.windows.net/fact_sales')\\\n",
    "                   .mode('overwrite')\\\n",
    "                  .saveAsTable('hive_metastore.gold.fact_sales')"
   ]
  }
 ],
 "metadata": {
  "application/vnd.databricks.v1+notebook": {
   "computePreferences": null,
   "dashboards": [],
   "environmentMetadata": {
    "base_environment": "",
    "client": "1"
   },
   "language": "python",
   "notebookMetadata": {
    "mostRecentlyExecutedCommandWithImplicitDF": {
     "commandId": 8420906576802928,
     "dataframes": [
      "_sqldf"
     ]
    },
    "pythonIndentUnit": 4
   },
   "notebookName": "gold_fact_sales",
   "widgets": {}
  },
  "language_info": {
   "name": "python"
  }
 },
 "nbformat": 4,
 "nbformat_minor": 0
}